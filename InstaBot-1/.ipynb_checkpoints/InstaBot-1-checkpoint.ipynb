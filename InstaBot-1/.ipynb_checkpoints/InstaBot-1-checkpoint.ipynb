{
 "cells": [
  {
   "cell_type": "code",
   "execution_count": 1,
   "id": "75cb6698",
   "metadata": {},
   "outputs": [],
   "source": [
    "from selenium import webdriver\n",
    "from selenium.webdriver.support.ui import WebDriverWait\n",
    "from selenium.webdriver.support import expected_conditions as EC\n",
    "from selenium.webdriver.common.by import By\n",
    "from selenium.webdriver.support.select import Select\n",
    "import time"
   ]
  },
  {
   "cell_type": "code",
   "execution_count": 55,
   "id": "ba385b5c",
   "metadata": {},
   "outputs": [],
   "source": [
    "from selenium.webdriver.common.keys import Keys"
   ]
  },
  {
   "cell_type": "code",
   "execution_count": 2,
   "id": "20d6af0e",
   "metadata": {},
   "outputs": [],
   "source": [
    "from bs4 import BeautifulSoup"
   ]
  },
  {
   "cell_type": "code",
   "execution_count": 3,
   "id": "9137d405",
   "metadata": {},
   "outputs": [],
   "source": [
    "from selenium.common.exceptions import NoSuchElementException"
   ]
  },
  {
   "cell_type": "code",
   "execution_count": 4,
   "id": "abeef0f5",
   "metadata": {},
   "outputs": [],
   "source": [
    "from selenium.common.exceptions import ElementNotInteractableException"
   ]
  },
  {
   "cell_type": "code",
   "execution_count": 36,
   "id": "29a1cfce",
   "metadata": {},
   "outputs": [
    {
     "data": {
      "text/plain": [
       "<selenium.webdriver.chrome.webdriver.WebDriver (session=\"05ef8e310c46efe1156f5abea881bdc4\")>"
      ]
     },
     "execution_count": 36,
     "metadata": {},
     "output_type": "execute_result"
    }
   ],
   "source": [
    "driver = webdriver.Chrome(executable_path= 'C:/Users/vs889/Downloads/chromedriver_win32/chromedriver')\n",
    "driver"
   ]
  },
  {
   "cell_type": "code",
   "execution_count": 37,
   "id": "4845aaba",
   "metadata": {},
   "outputs": [],
   "source": [
    "driver.get(\"https://www.instagram.com/\")"
   ]
  },
  {
   "cell_type": "code",
   "execution_count": 39,
   "id": "ccd59f60",
   "metadata": {},
   "outputs": [],
   "source": [
    "username = WebDriverWait(driver, 10).until(EC.element_to_be_clickable((By.CSS_SELECTOR, \"input[name='username']\")))"
   ]
  },
  {
   "cell_type": "code",
   "execution_count": 40,
   "id": "cfd30839",
   "metadata": {},
   "outputs": [],
   "source": [
    "username.clear()\n",
    "username.send_keys(\"_.oobermensch\")"
   ]
  },
  {
   "cell_type": "code",
   "execution_count": 41,
   "id": "05ae858c",
   "metadata": {},
   "outputs": [],
   "source": [
    "password = WebDriverWait(driver, 10).until(EC.element_to_be_clickable((By.CSS_SELECTOR, \"input[name='password']\")))"
   ]
  },
  {
   "cell_type": "code",
   "execution_count": 42,
   "id": "1cb743c0",
   "metadata": {},
   "outputs": [],
   "source": [
    "password.clear()\n",
    "password.send_keys(\"ved@2611\")"
   ]
  },
  {
   "cell_type": "code",
   "execution_count": 43,
   "id": "182e5619",
   "metadata": {},
   "outputs": [],
   "source": [
    "Login_button = WebDriverWait(driver, 2).until(EC.element_to_be_clickable((By.CSS_SELECTOR, \"button[type='submit']\"))).click()  ##Log in button"
   ]
  },
  {
   "cell_type": "code",
   "execution_count": 44,
   "id": "9f4a3cf9",
   "metadata": {},
   "outputs": [],
   "source": [
    "not_now = WebDriverWait(driver, 10).until(EC.element_to_be_clickable((By.XPATH, '//button[contains(text(), \"Not Now\")]'))).click()\n",
    "not_now2 = WebDriverWait(driver, 10).until(EC.element_to_be_clickable((By.XPATH, '//button[contains(text(), \"Not Now\")]'))).click()"
   ]
  },
  {
   "cell_type": "markdown",
   "id": "854ab4db",
   "metadata": {},
   "source": [
    "### Type for “food” in search bar and print all the names of the Instagram Handles that are displayed in list after typing “food” Note : Make sure to avoid printing hashtags"
   ]
  },
  {
   "cell_type": "code",
   "execution_count": 52,
   "id": "d8fc9bb5",
   "metadata": {},
   "outputs": [],
   "source": [
    "searchbox = WebDriverWait(driver,10).until(EC.element_to_be_clickable((By.XPATH, \"//input[@placeholder='Search']\")))"
   ]
  },
  {
   "cell_type": "code",
   "execution_count": 56,
   "id": "a0b81df2",
   "metadata": {},
   "outputs": [],
   "source": [
    "searchbox.clear()\n",
    "keyword = \"food\"\n"
   ]
  },
  {
   "cell_type": "code",
   "execution_count": 57,
   "id": "2c6d29aa",
   "metadata": {},
   "outputs": [],
   "source": [
    "results_food = driver.find_elements_by_xpath('//div[contains(@class,\"qyrsm KV-D4\")]')\n",
    "for i in results_food[1:]:\n",
    "    if '#' not in i.get_attribute('innerHTML'):\n",
    "        print(i.get_attribute('innerHTML'))"
   ]
  },
  {
   "cell_type": "markdown",
   "id": "3b7e0165",
   "metadata": {},
   "source": [
    "### Searching and Opening a profile using \n",
    "#### Open profile of “So Delhi” \n",
    "#### Follow/Unfollow given handle - \n",
    "#### Open the Instagram Handle of “So Delhi”\n",
    "#### Start following it. Print a message if you are already following\n",
    "#### After following, unfollow the instagram handle. Print a message if you have already unfollowed."
   ]
  },
  {
   "cell_type": "code",
   "execution_count": 23,
   "id": "e926ec96",
   "metadata": {},
   "outputs": [],
   "source": [
    "search_box.clear()"
   ]
  },
  {
   "cell_type": "code",
   "execution_count": 24,
   "id": "fd778128",
   "metadata": {},
   "outputs": [],
   "source": [
    "search_box.send_keys(\"So Delhi\")"
   ]
  },
  {
   "cell_type": "code",
   "execution_count": 29,
   "id": "57c96494",
   "metadata": {},
   "outputs": [],
   "source": [
    "so_delhi = driver.find_element_by_xpath('//div[contains(@class,\"qyrsm KV-D4\")]')"
   ]
  },
  {
   "cell_type": "code",
   "execution_count": 30,
   "id": "61b632e8",
   "metadata": {},
   "outputs": [],
   "source": [
    "so_delhi.click()"
   ]
  },
  {
   "cell_type": "code",
   "execution_count": 32,
   "id": "6525705a",
   "metadata": {},
   "outputs": [
    {
     "name": "stdout",
     "output_type": "stream",
     "text": [
      "Account is already being followed!!\n"
     ]
    }
   ],
   "source": [
    "##Run this cell twice to check if exception works \n",
    "try:\n",
    "    follow_btn = driver.find_element_by_xpath('//button[contains(@class,\"jIbKX\")]')\n",
    "    follow_btn.click()\n",
    "except NoSuchElementException:\n",
    "    print(\"Account is already being followed!!\")"
   ]
  },
  {
   "cell_type": "code",
   "execution_count": 34,
   "id": "8fc3ec87",
   "metadata": {},
   "outputs": [
    {
     "name": "stdout",
     "output_type": "stream",
     "text": [
      "Account has been unfollowed already!!\n"
     ]
    }
   ],
   "source": [
    "##Run this cell twice to check if exception works\n",
    "try:\n",
    "    unfollow_btn = driver.find_element_by_xpath('//button[contains(@class,\"-fzfL\")]')\n",
    "    unfollow_btn.click()\n",
    "    cnfrm_btn = driver.find_element_by_xpath('//button[contains(@class,\"-Cab_\")]')\n",
    "    cnfrm_btn.click()\n",
    "except NoSuchElementException:\n",
    "    print(\"Account has been unfollowed already!!\")"
   ]
  },
  {
   "cell_type": "markdown",
   "id": "5e41bdf7",
   "metadata": {},
   "source": [
    "## Liking the top 30 posts of the ‘dilsefoodie'. Print message if you have already liked it. Unliking the top 30 posts of the ‘dilsefoodie’. Print message if you have already unliked it."
   ]
  },
  {
   "cell_type": "code",
   "execution_count": 46,
   "id": "fa44a653",
   "metadata": {},
   "outputs": [],
   "source": [
    "driver.get(\"https://www.instagram.com\")"
   ]
  },
  {
   "cell_type": "code",
   "execution_count": 47,
   "id": "6de4d4c6",
   "metadata": {},
   "outputs": [],
   "source": [
    "search_box = driver.find_element_by_xpath('//input[contains(@class,\"d_djL\")]')"
   ]
  },
  {
   "cell_type": "code",
   "execution_count": 48,
   "id": "677d3274",
   "metadata": {},
   "outputs": [],
   "source": [
    "search_box.send_keys(\"dilsefoodie\")"
   ]
  },
  {
   "cell_type": "code",
   "execution_count": 50,
   "id": "1eb3a348",
   "metadata": {},
   "outputs": [],
   "source": [
    "driver.find_element_by_xpath('//div[contains(@class,\"qyrsm KV-D4\")]').click()"
   ]
  },
  {
   "cell_type": "code",
   "execution_count": 51,
   "id": "6601673c",
   "metadata": {},
   "outputs": [],
   "source": [
    "dilsefoodie_url = driver.current_url"
   ]
  },
  {
   "cell_type": "code",
   "execution_count": 52,
   "id": "f1512c9a",
   "metadata": {},
   "outputs": [],
   "source": [
    "driver.execute_script('window.scrollBy(0,5000);')"
   ]
  },
  {
   "cell_type": "code",
   "execution_count": 53,
   "id": "265c67a1",
   "metadata": {},
   "outputs": [],
   "source": [
    "driver.execute_script('window.scrollBy(0,-5000);')"
   ]
  },
  {
   "cell_type": "code",
   "execution_count": 54,
   "id": "6c5f1804",
   "metadata": {},
   "outputs": [],
   "source": [
    "posts_links = []\n",
    "base_url = \"https://www.instagram.com\"\n",
    "for i in driver.find_elements_by_xpath('//div[contains(@class,\"kIKUG\")]/a'):\n",
    "    html = i.get_attribute(\"outerHTML\")\n",
    "    data = BeautifulSoup(html,'html.parser')\n",
    "    link = base_url+data.find('a')['href']\n",
    "    posts_links.append(link)\n",
    "posts_links = posts_links[:30]"
   ]
  },
  {
   "cell_type": "code",
   "execution_count": 55,
   "id": "82fa968c",
   "metadata": {},
   "outputs": [
    {
     "data": {
      "text/plain": [
       "30"
      ]
     },
     "execution_count": 55,
     "metadata": {},
     "output_type": "execute_result"
    }
   ],
   "source": [
    "len(posts_links)"
   ]
  },
  {
   "cell_type": "code",
   "execution_count": 56,
   "id": "24736fef",
   "metadata": {},
   "outputs": [
    {
     "name": "stdout",
     "output_type": "stream",
     "text": [
      "Post_1: Already Liked!\n",
      "Post_4: Already Liked!\n",
      "Post_5: Already Liked!\n",
      "Post_6: Already Liked!\n",
      "Post_10: Already Liked!\n",
      "Post_12: Already Liked!\n"
     ]
    }
   ],
   "source": [
    "##The following code was ran after deliberately liking some posts\n",
    "##randomly amongst the 30 posts\n",
    "count_posts = 0\n",
    "\n",
    "for i in posts_links:\n",
    "    driver.get(i)\n",
    "    time.sleep(1)\n",
    "    count_posts += 1 \n",
    "    try:\n",
    "        driver.find_element_by_xpath('//section[contains(@class,\"Slqrh\")]/span/button/div[2]/span').click()\n",
    "    except NoSuchElementException:\n",
    "        print(\"Post_\"+str(count_posts)+\": Already Liked!\")\n",
    "driver.get(dilsefoodie_url)"
   ]
  },
  {
   "cell_type": "code",
   "execution_count": 57,
   "id": "73deaf61",
   "metadata": {},
   "outputs": [
    {
     "name": "stdout",
     "output_type": "stream",
     "text": [
      "Post_2: Already Unliked!\n",
      "Post_5: Already Unliked!\n",
      "Post_8: Already Unliked!\n",
      "Post_9: Already Unliked!\n"
     ]
    }
   ],
   "source": [
    "##The following code was ran after deliberately unliking some posts\n",
    "##randomly amongst the 30 posts\n",
    "count_posts = 0\n",
    "for i in posts_links:\n",
    "    driver.get(i)\n",
    "    time.sleep(1)\n",
    "    count_posts += 1 \n",
    "    try:\n",
    "        driver.find_element_by_xpath('//section[contains(@class,\"Slqrh\")]/span/button/div[2]/span')\n",
    "        print(\"Post_\"+str(count_posts)+\": Already Unliked!\")\n",
    "    \n",
    "    except NoSuchElementException:\n",
    "        driver.find_element_by_xpath('//section[contains(@class,\"Slqrh\")]/span/button/div/span').click()\n",
    "        \n",
    "driver.get(dilsefoodie_url)"
   ]
  },
  {
   "cell_type": "markdown",
   "id": "a3ed1eac",
   "metadata": {},
   "source": [
    "### Extract the usernames of the first 500 followers of ‘foodtalkindia’ and ‘sodelhi’.\n",
    "    "
   ]
  },
  {
   "cell_type": "code",
   "execution_count": 64,
   "id": "ec9f676b",
   "metadata": {},
   "outputs": [],
   "source": [
    "driver.get(\"https://www.instagram.com\")"
   ]
  },
  {
   "cell_type": "code",
   "execution_count": 65,
   "id": "f2c916cf",
   "metadata": {},
   "outputs": [],
   "source": [
    "search_box = driver.find_element_by_xpath('//input[contains(@class,\"d_djL\")]')\n",
    "search_box.send_keys(\"foodtalkindia\")\n"
   ]
  },
  {
   "cell_type": "code",
   "execution_count": 67,
   "id": "c315267d",
   "metadata": {},
   "outputs": [],
   "source": [
    "driver.find_element_by_xpath('//div[contains(@class,\"qyrsm KV-D4\")]').click()"
   ]
  },
  {
   "cell_type": "code",
   "execution_count": 73,
   "id": "93afc9db",
   "metadata": {},
   "outputs": [],
   "source": [
    "driver.find_element_by_xpath('//section[contains(@class,\"wW3k-\")]/ul/li[2]').click()\n"
   ]
  },
  {
   "cell_type": "code",
   "execution_count": 74,
   "id": "fe7e17ea",
   "metadata": {},
   "outputs": [],
   "source": [
    "pop_up_window = WebDriverWait(driver, 2).until(EC.element_to_be_clickable(\n",
    "        (By.XPATH, \"//div[@class='isgrP']\")))\n",
    "  \n",
    "while True:\n",
    "    if len(driver.find_elements_by_class_name(\"_0imsa\"))>=500:\n",
    "        break\n",
    "    driver.execute_script(\n",
    "        'arguments[0].scrollTop = arguments[0].scrollTop + arguments[0].offsetHeight;', \n",
    "      pop_up_window)\n",
    "    time.sleep(1)\n",
    "    \n",
    "    "
   ]
  },
  {
   "cell_type": "code",
   "execution_count": 75,
   "id": "6a44a0a4",
   "metadata": {
    "scrolled": false
   },
   "outputs": [
    {
     "name": "stdout",
     "output_type": "stream",
     "text": [
      "mepradeepjoshi\n",
      "ruchigoel1101\n",
      "lolwah_real_estate\n",
      "meghhamehta\n",
      "lovelaughlive_megs\n",
      "utkarsh143cacs\n",
      "tejassamant009\n",
      "himu123803\n",
      "rss_1.231052\n",
      "rinkle03\n",
      "_.parmeet._.kaur._\n",
      "amit.tomer.7547\n",
      "adeshgupta409\n",
      "samarthgoyal0055\n",
      "aggarwalharsh218\n",
      "amaira_nth\n",
      "shivaniarora1977\n",
      "mukeshsuryavanshi23\n",
      "ilpanuozzo.india\n",
      "mr_deval_07\n",
      "arjun__1209\n",
      "girly_muslim33\n",
      "gaurav_diwakar98\n",
      "mahakal__ka_bhakt_302\n",
      "vchhabra04\n",
      "aprill_artwork\n",
      "ar.junkumar7393\n",
      "exquisitebakes_by_nidhi\n",
      "notbadjatt\n",
      "anazmohmmd\n",
      "diets_by_ayushi\n",
      "candleshop35\n",
      "sridevikurup\n",
      "cura_mumbai\n",
      "arjunmalik1108\n",
      "jatt_2075_11\n",
      "dharanidharan00v\n",
      "abheythapar\n",
      "arogo._\n",
      "indore.bulletin\n",
      "kiranloopzz\n",
      "sizzling_eats\n",
      "jinc_the_foode\n",
      "dharan__v\n",
      "___.w.a.n.d.e.r.l.u.s.t.____\n",
      "mehar9.foodie\n",
      "rasheenangalia\n",
      "switch_enrich\n",
      "kunchalaanand\n",
      "peace_dude_06\n",
      "simrand123\n",
      "thenameisdineshsoren\n",
      "jay__engineering\n",
      "aryadhenushudhkhand\n",
      "sakhilgirdhar\n",
      "indianarmy_5499\n",
      "bhati.radhika36\n",
      "mohithabi\n",
      "navmanjari\n",
      "magretelepxha\n",
      "eatkrisskross\n",
      "ganesh_balaji_er\n",
      "rohit_26g\n",
      "taniya_ghh\n",
      "simargulatii\n",
      "aro_khabo91\n",
      "myy.miniworld\n",
      "kudlas_kitchen\n",
      "official_swapnya6790\n",
      "bongfoodaristocart\n",
      "may_be_gentleman\n",
      "muktagoyal20\n",
      "nilampatankar\n",
      "m15cz\n",
      "pbpranshu\n",
      "iraman.91k\n",
      "madaniaanchal\n",
      "iambhavi_vlog\n",
      "sophiyaky31\n",
      "ravpreet.nikki\n",
      "khadad_bandya\n",
      "in.rjoshi\n",
      "foodie_nation_me\n",
      "small_biz_promotion\n",
      "bbabaji854\n",
      "chintu_mr_nothing_\n",
      "rongonchoudhury\n",
      "anshi_chocopie\n",
      "suchi_shah35\n",
      "roopali.sood\n",
      "grow.cook.relish\n",
      "imav.07\n",
      "singh92p\n",
      "konnichiwa_india\n",
      "indian_food_secrets\n",
      "harsh_unadkat15062002\n",
      "sanjanapanjwanimua\n",
      "nisharawat2186\n",
      "kreatives_foodie\n",
      "deeptijain_nutritionist\n",
      "abhijithoo7\n",
      "dazzles_n_shimmers\n",
      "nikhil.dobriyal\n",
      "sandy_2485\n",
      "mohitbachani7\n",
      "indraani_1510\n",
      "cakes_andgrills\n",
      "gauravkkavi\n",
      "pri.dhir\n",
      "jeetsb808\n",
      "yummsyworld\n",
      "abhinavchandwal\n",
      "shashikantmishra760\n",
      "vikram__vikram5589\n",
      "yasminsketchin\n",
      "shwetashriwastva\n",
      "abcdhanraj\n",
      "mayank_____a79\n",
      "earthplanet900\n",
      "hetal.karelia\n",
      "hiya_mittal\n",
      "thegreenwokgk1\n",
      "samideansari\n",
      "vidisha_07\n",
      "vinnyk26\n",
      "ptofeeq\n",
      "_nimisha_sri\n",
      "anand_stall_vileparle\n",
      "saket._gupta\n",
      "lakshmi_pandu23\n",
      "kedar1287singhgmail.com_\n",
      "sultan75746\n",
      "blizz__uu\n",
      "sreeni.itsme\n",
      "kesarwanibhagyashree\n",
      "tinajomanuel\n",
      "your__bowl\n",
      "dhramraj_lasel\n",
      "the_kookingqueen\n",
      "meghana3915\n",
      "foodandagrimcq\n",
      "manyachaturvedi12\n",
      "amansinha16\n",
      "kulkarnitej\n",
      "aman.deep.20\n",
      "anupamdikhit\n",
      "kaavyasriram\n",
      "tundaykababipvtltd\n",
      "shri_vaish\n",
      "nobitaaaa_________\n",
      "karuna_rizvi_\n",
      "impatient_optimist_\n",
      "shanmugam_r_m\n",
      "choprakomal\n",
      "tara_junge_103\n",
      "__cooking_corner_\n",
      "akshaypatil_98\n",
      "balwinderbawa0\n",
      "madhurigarg9789\n",
      "mahamed_shahad\n",
      "ghansyam.bhusal\n",
      "rosh_0722\n",
      "bakennutsroyale\n",
      "noorcakehouse_\n",
      "healthyfood_sumanmehta\n",
      "_chicken_choice_\n",
      "cfc_bhabua\n",
      "pcobombay\n",
      "manjurkhan657\n",
      "simrannaggarwal\n",
      "sunshine_mixedwith_rain\n",
      "___parth__333\n",
      "eknoor_baidwan\n",
      "italian_zilla\n",
      "artimanish\n",
      "kulinarykodavas\n",
      "shivi_9381\n",
      "shaik.bittu18\n",
      "ishita.agarwal15\n",
      "the_hungerbegins\n",
      "bad_boy_ktm8899\n",
      "rajesh_shahwal6\n",
      "sabir__patel\n",
      "mum_eatz\n",
      "saladpod_official\n",
      "craving_king_mathura\n",
      "arez.oo_n\n",
      "rahulsinghpipliwal\n",
      "maitri.007\n",
      "savitha_sav_05\n",
      "fusionfoodtale\n",
      "letsgetlost1422\n",
      "foodie_mosh\n",
      "wingci_p9999\n",
      "lovedarkphotographers\n",
      "i_am_bittu_.07\n",
      "maverick_181\n",
      "baked_for_fiestas\n",
      "ashishsikka28\n",
      "hinabilawalkhan_\n",
      "yakubhaan\n",
      "the_food_icon0\n",
      "__its__hemant_\n",
      "bonnyr1091\n",
      "gixn2022\n",
      "gandharvmalhotra\n",
      "ushataneja1502\n",
      "ikonaromatic\n",
      "the_chetansoni_2786\n",
      "anjanamehraanjii\n",
      "fit_squad_candy\n",
      "username745900\n",
      "otlothecafe\n",
      "___m.r___single___\n",
      "nishant.goel.08\n",
      "akkaura21\n",
      "hymavathi.k.5203\n",
      "anand_____singh9211\n",
      "onthego_captures\n",
      "they_call_me_nishh\n",
      "swatidwivedi168\n",
      "_.ceratizm._\n",
      "jenni_ananth\n",
      "harsh_goyal4349\n",
      "piyush.sikka\n",
      "vaniparashar28\n",
      "aayush_tawde\n",
      "jahnavi_subbu\n",
      "aniket_bhai_7905\n",
      "streetfoodbazaar\n",
      "orchha_namaste\n",
      "52liam199474b\n",
      "diveshrohra\n",
      "pradhan_sidharth5\n",
      "pushpraj_121\n",
      "_jihanmusic_\n",
      "sindhureddy_sv95\n",
      "pindballuchiagra\n",
      "bansalkushagraa\n",
      "stanzindolkardimbir\n",
      "zusthetics\n",
      "vaishnavik70\n",
      "hellrooster05\n",
      "barbell_and_beast_nutrition\n",
      "goaonmymind\n",
      "ishneet_28\n",
      "_.soul._lover\n",
      "manikaboipai\n",
      "mr_sha2000\n",
      "naveen_nambadan\n",
      "aviav1980\n",
      "ipriyanshu05\n",
      "abdur_rahman_thakur\n",
      "rash23.designs\n",
      "y_a_s_h_172508\n",
      "anvi_1321\n",
      "mumbai_foodexplorers\n",
      "ankupreti\n",
      "imeaurshai\n",
      "nithu__vava\n",
      "awesomedesignboutique\n",
      "vakas_ahmed_\n",
      "emankirat__mann\n",
      "_nimitaa_\n",
      "tyagirajul\n",
      "priss.ax\n",
      "cutejeans1510\n",
      "krishna_mahajan8\n",
      "smitatripathi\n",
      "kinderpetsofficial\n",
      "lubi.dubi007\n",
      "tbmfoods\n",
      "itz_ishu13\n",
      "dip.some.more\n",
      "cooking.with.vimrata\n",
      "vishalsharma03\n",
      "daredevilricha\n",
      "santrapranab2021\n",
      "greenbohemian30\n",
      "tapanshugehlot\n",
      "surbhi_midha\n",
      "_samm_malik\n",
      "shruti.ashar\n",
      "zareen.khan24\n",
      "quotes_motivation_calligraphy\n",
      "raopranjalyadav\n",
      "bachpananishabad\n",
      "happytohelptech\n",
      "thathungrybhukkad\n",
      "sayar.balak\n",
      "wanderlust_dreamer6120\n",
      "p_dot_j\n",
      "i_miss_you.143.2\n",
      "raman_kamboj97\n",
      "sowndharya_guru\n",
      "bhushanborse1\n",
      "geetzz_pvt\n",
      "aishwarya.ash98\n",
      "tanya_singh1499\n",
      "jessica._.pvt\n",
      "shivani.malhotra309\n",
      "abhi.v2106\n",
      "krishna_sthitpragya\n",
      "kankaria_bhavna\n",
      "ruheensingh\n",
      "dryfruitvala\n",
      "teanmea\n",
      "pushpraj412\n",
      "rachna.m.goel\n",
      "shubhammayal\n",
      "thekitchenstoryyy\n",
      "adeetii\n",
      "kadambarimatta\n",
      "divyababbar24\n",
      "niki_kohli0422\n",
      "stalwartquneen20\n",
      "army_boyzz_578\n",
      "aas.thaa30\n",
      "shrutikarastogi\n",
      "pritam_das_theproblemsolver\n",
      "hemantnautiyal\n",
      "pizzario.miraroad\n",
      "snackamor\n",
      "insiya.mithaiwala\n",
      "raghugill202\n",
      "simran_2095\n",
      "affansayyed36\n",
      "indianfoodispy\n",
      "mrinalsethi\n",
      "karanjindalkj\n",
      "samhita_2009\n",
      "kirtikatolia\n",
      "muzammmilsakawala\n",
      "abi.16_09\n",
      "rishika1302\n",
      "moonriceshri\n",
      "sooper.__cooking\n",
      "foodicious_itechgod\n",
      "mahe_02nov\n",
      "its_sanyasingh\n",
      "shivangi_sharma1516\n",
      "bakingisstressbusting\n",
      "luchalittle\n",
      "saviturindustries\n",
      "gawsditi\n",
      "thagguksamose\n",
      "__arbaz_08_\n",
      "the_food_kaleidoscope\n",
      "craftsuppliesdelhincr\n",
      "satvik.sehgal\n",
      "summation_2022\n",
      "neelima_surana\n",
      "shine.saa222\n",
      "fiberglass5\n",
      "falgunichanchlani\n",
      "sharma_girl1102\n",
      "gimmii_sharma_1777\n",
      "niravkgala\n",
      "geeta_bhoj_\n",
      "iam_ssheikh\n",
      "subbitravelandfood\n",
      "wanderer_ritz\n",
      "singhstreak\n",
      "hakimova.yorqinoy\n",
      "jitend2505\n",
      "arshiadutta\n",
      "prajwal8321\n",
      "honeypiee1717\n",
      "dhrumi.me\n",
      "aman_vehanvaal\n",
      "kameishafooddiary\n",
      "mr.shiva__yadav\n",
      "its__me_rehan_khan\n",
      "5138_yusuf\n",
      "vaishu_aaru\n",
      "amanbansal505\n",
      "tasty_bite_88\n",
      "rashiv.gupta\n",
      "pranshugoel\n",
      "erum30345\n",
      "sahil_sait._\n",
      "seema.parvez\n",
      "crustintime_india\n",
      "nri.sareelover.melb\n",
      "spicetheoryin\n",
      "hardikvats_._\n",
      "ashu0009\n",
      "sanskriti1407\n",
      "_ghar_ka__khana\n",
      "sanjaysubhranshu\n",
      "upscprepforyou\n",
      "satyam__vishwakarma__09\n",
      "anil.bung\n",
      "phalgun_chidanand\n",
      "shikhs_kapur\n",
      "sheenubl\n",
      "parisian_bakery\n",
      "annudogra_official\n",
      "outlethandiaya\n",
      "food_malsi\n",
      "tubaaslam12345678\n",
      "vamseekrishna_s\n",
      "snehaa2296\n",
      "jiten.chauhan10\n",
      "shubhlabhh\n",
      "rabz_the_nocturnal_investor\n",
      "sanmoy_saha\n",
      "itsdevinthere\n",
      "maheepisbored\n",
      "aditiarvindtiwari08\n",
      "anindita_aich\n",
      "dessert_play\n",
      "rise_interior22\n",
      "bhanas.bhat\n",
      "ritikasingh_78\n",
      "bhavika1308\n",
      "amansinghdeep01\n",
      "sreedevi.sreenivasan\n",
      "the_twinkle.eye\n",
      "theeffortlesschic_\n",
      "themilestoner\n",
      "marjorie_8789\n",
      "ruchi_k24\n",
      "nidhimehra22\n",
      "kashyapnaresh44\n",
      "mumbai_local_food\n",
      "chreonatural\n",
      "saii_duck\n",
      "naazkhan070806\n",
      "pumpkin.pvt\n",
      "imboredlolskrrt\n",
      "mr_sharim___ak47\n",
      "siddharth_7078\n",
      "sameerpeswani\n",
      "ipu809\n",
      "varghese_meenu\n",
      "foody_at_forty\n",
      "garima2407\n",
      "neelimabector\n",
      "mrinaudiere\n",
      "68rita__giovanna9\n",
      "_ditisaini_\n",
      "_.chubby._brown._girl._\n",
      "bramhanshiv20002021\n",
      "saniya_yunus_\n",
      "_arctic_witch\n",
      "stavhoecados\n",
      "rishabh_dubeyy\n",
      "girish0333\n",
      "zuubbiiiii\n",
      "dishi_divi\n",
      "cookienutsindia\n",
      "tanyaa.jpg\n",
      "sapnataneja11\n",
      "food_plate__\n",
      "radhika_khanna7\n",
      "shubhisg\n",
      "darlincutie79\n",
      "meansunbeatable\n",
      "ankitasingh91111\n",
      "_.mudcake\n",
      "deepmoni_deka_1234\n",
      "doubletrouble993\n",
      "chesh_mcqueen\n",
      "chennakesava14\n",
      "my_side_my_view\n",
      "heavenly_sounds16\n",
      "foram_10_07\n",
      "spatel027\n",
      "blendenlifestyle\n",
      "sonale_2017\n",
      "v____i_____k_____a______s_____\n",
      "seenasomiya\n",
      "chefobsessed\n",
      "geetanjali.kapur.90\n",
      "ppatidar00\n",
      "ranav_kanodia\n",
      "gourmetgirl01\n",
      "hemantuberoi\n",
      "therightsid\n",
      "dilna1816\n",
      "kindheartsoul3\n",
      "mohammedakbar620\n",
      "mlobo123\n",
      "navya.kumar02\n",
      "thesaisatiish\n",
      "the_actual_siddharathsehdev\n",
      "ts_food_adventures\n",
      "rakshasolanki123\n",
      "madanimtaqi\n",
      "ranigeetha.2020\n",
      "greatindianchaiwallah\n",
      "siddhanthchawla\n",
      "arnav_prakruth\n",
      "salthousecafe\n",
      "sahni.side.up\n",
      "shahjinali45\n",
      "theblissfulguilt\n",
      "aayush_technoholic\n",
      "goetgarimasingh\n",
      "foodiebro_itechgod\n",
      "hina_bhandula\n"
     ]
    }
   ],
   "source": [
    "followers_foodtalkIndia = driver.find_elements_by_class_name(\"_0imsa\")\n",
    "for i in followers_foodtalkIndia:\n",
    "    print(i.get_attribute(\"innerHTML\"))"
   ]
  },
  {
   "cell_type": "markdown",
   "id": "d766997c",
   "metadata": {},
   "source": [
    "### Now print all the followers of “foodtalkindia” that you are following but those who don’t follow you."
   ]
  },
  {
   "cell_type": "code",
   "execution_count": 76,
   "id": "b2a8b30a",
   "metadata": {},
   "outputs": [
    {
     "name": "stdout",
     "output_type": "stream",
     "text": [
      "the_kookingqueen\n",
      "__cooking_corner_\n",
      "_chicken_choice_\n",
      "cfc_bhabua\n"
     ]
    }
   ],
   "source": [
    "for i in driver.find_elements_by_xpath('//div[contains(@class,\"uu6c_\")]'):\n",
    "    html = i.get_attribute(\"outerHTML\")\n",
    "    data = BeautifulSoup(html,'html.parser')\n",
    "    if data.find(\"button\").string == \"Following\":\n",
    "        print(data.find('a')['href'][1:-1])\n",
    "    "
   ]
  },
  {
   "cell_type": "markdown",
   "id": "bf7042b3",
   "metadata": {},
   "source": [
    "### Check the story of ‘coding.ninjas’. Consider the following Scenarios and print error messages accordingly -\n",
    "#### If You have already seen the story.\n",
    "#### Or The user has no story.\n",
    "#### Or View the story if not yet seen."
   ]
  },
  {
   "cell_type": "code",
   "execution_count": 77,
   "id": "eb2ab3e0",
   "metadata": {},
   "outputs": [],
   "source": [
    "driver.get(\"https://www.instagram.com\")"
   ]
  },
  {
   "cell_type": "code",
   "execution_count": 78,
   "id": "5baac6f1",
   "metadata": {},
   "outputs": [],
   "source": [
    "search_box = driver.find_element_by_xpath('//input[contains(@class,\"d_djL\")]')\n",
    "search_box.send_keys(\"coding.ninjas\")\n"
   ]
  },
  {
   "cell_type": "code",
   "execution_count": 79,
   "id": "ed0944b2",
   "metadata": {},
   "outputs": [],
   "source": [
    "driver.find_element_by_xpath('//div[contains(@class,\"qyrsm KV-D4\")]').click()"
   ]
  },
  {
   "cell_type": "code",
   "execution_count": 80,
   "id": "1c44853d",
   "metadata": {},
   "outputs": [
    {
     "name": "stdout",
     "output_type": "stream",
     "text": [
      "Story Available\n",
      "Story seen\n"
     ]
    }
   ],
   "source": [
    "story_link=driver.find_element_by_xpath(\"//div[contains(@class,'RR-M- h5uC0')]\")\n",
    "data=BeautifulSoup(driver.page_source,'html.parser')\n",
    "ans=data.find(class_=\"RR-M-\")\n",
    "\n",
    "if ans['aria-disabled']==\"true\":\n",
    "    print(\"Story NOT Available\")\n",
    "else:\n",
    "    print(\"Story Available\")\n",
    "    story_link.click()\n",
    "    time.sleep(5)\n",
    "    print(\"Story seen\")\n",
    "driver.get(\"https://www.instagram.com/coding.ninjas\")"
   ]
  },
  {
   "cell_type": "code",
   "execution_count": null,
   "id": "459f1a18",
   "metadata": {},
   "outputs": [],
   "source": []
  }
 ],
 "metadata": {
  "kernelspec": {
   "display_name": "Python 3",
   "language": "python",
   "name": "python3"
  },
  "language_info": {
   "codemirror_mode": {
    "name": "ipython",
    "version": 3
   },
   "file_extension": ".py",
   "mimetype": "text/x-python",
   "name": "python",
   "nbconvert_exporter": "python",
   "pygments_lexer": "ipython3",
   "version": "3.9.6"
  }
 },
 "nbformat": 4,
 "nbformat_minor": 5
}
